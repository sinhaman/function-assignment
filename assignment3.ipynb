{
 "cells": [
  {
   "cell_type": "markdown",
   "id": "96ef5ca8",
   "metadata": {},
   "source": [
    "THEORY QUESTIONS"
   ]
  },
  {
   "cell_type": "markdown",
   "id": "5d5d7cfa",
   "metadata": {},
   "source": [
    "Q1. What is the difference between a function and a method in Python?\n",
    "ANS:function:A function is a block of reusable code that performs a specific task. It is defined using the def keyword and can exist independently, not tied to any object.\n",
    "\n",
    "method:A method is essentially a function, but it is bound to an object. Methods are defined within classes and are meant to operate on the data contained within that object."
   ]
  },
  {
   "cell_type": "markdown",
   "id": "0ff93225",
   "metadata": {},
   "source": [
    "Q2.Explain the concept of function arguments and parameters in Python.\n",
    "ANS: function arguments and parameters are fundamental concepts related to passing values to functions,Parameters are the variables that are defined in the function's definition Arguments are the actual values or data passed to the function when calling it. They correspond to the parameters in the function’s definition."
   ]
  },
  {
   "cell_type": "markdown",
   "id": "a8750c35",
   "metadata": {},
   "source": [
    "Q3.What are the different ways to define and call a function in Python?\n",
    "ANS: In python we define a function using def ,lambda keyword etc. \n",
    "then we call that particular function to perform the task written inside it."
   ]
  },
  {
   "cell_type": "markdown",
   "id": "73a4bc0c",
   "metadata": {},
   "source": [
    "Q4. What is the purpose of the `return` statement in a Python function?\n",
    "ANS:he  purpose of the return statement is to return a value from the function. When a function finishes its task and reaches a return statement, the function stops executing, and the specified value is sent back to where the function was called."
   ]
  },
  {
   "cell_type": "markdown",
   "id": "8338fb6d",
   "metadata": {},
   "source": [
    "Q5.What are iterators in Python and how do they differ from iterables?\n",
    "ANS:An iterator is an object that allows traversal through a countable number of values. It is used to iterate over iterable objects like lists, tuples, sets, etc And iterables are the element through the iteration will happen."
   ]
  },
  {
   "cell_type": "markdown",
   "id": "091f7180",
   "metadata": {},
   "source": [
    "Q6. Explain the concept of generators in Python and how they are defined.\n",
    "ANS:Generators are a simple way to create iterators using functions and the yield keyword instead of returning values.\n",
    "They are defind using normal function with yield keyword."
   ]
  },
  {
   "cell_type": "markdown",
   "id": "fa710093",
   "metadata": {},
   "source": [
    "Q7.What are the advantages of using generators over regular functions?\n",
    "ANS:Generators in Python offer several advantages over regular functions, particularly when working with large datasets:\n",
    "1.Memory Efficiency\n",
    "2.Efficient Handling of Infinite Sequences\n",
    "3.Simplified Handling of Complex Iterations\n",
    "4.Gets the next element in sequence."
   ]
  },
  {
   "cell_type": "markdown",
   "id": "fac14f5b",
   "metadata": {},
   "source": [
    "Q8.What is a lambda function in Python and when is it typically used?\n",
    "ANS:Lambda functions are small, anonymous functions defined using the lambda keyword. They are used for creating small, throwaway functions without the need to formally define a function using def,and often used for short-term, simple operations.\n",
    "1.with map()\n",
    "2.with filter()\n",
    "3.with reduce() etc"
   ]
  },
  {
   "cell_type": "markdown",
   "id": "ab9245f4",
   "metadata": {},
   "source": [
    "Q9. Explain the purpose and usage of the `map()` function in Python.\n",
    "ANS:purpose of map() is to apply a given function to each item in an iterable (like a list or a tuple) and produce a new iterable with the transformed results. It helps avoid the need for explicitly writing loops to process items in a collection, making the code more concise and readable."
   ]
  },
  {
   "cell_type": "markdown",
   "id": "da91ccad",
   "metadata": {},
   "source": [
    "Q10.What is the difference between `map()`, `reduce()`, and `filter()` functions in Python?\n",
    "ANS:MAP:\n",
    "The map function applies a given function to all items in an input iterable (like a list) and returns an iterator with the results.\n",
    "REDUCE:The reduce function from the functools module applies a given function cumulatively to the items of a sequence, from left to right, to reduce the sequence to a single value.\n",
    "FILTER:\n",
    "The filter function constructs an iterator from elements of an iterable for which a specified function returns True."
   ]
  },
  {
   "cell_type": "markdown",
   "id": "efdcddf4",
   "metadata": {},
   "source": [
    "q11. Using pen & Paper write the internal mechanism for sum operation using  reduce function on this given\n",
    "list:[47,11,42,13]; \n",
    "ANS: NOTE:I AM SOLVING PROBLEMS USING JUPYTER NOTEBOOK SO THERE IS NO OPTION TO ATTACH IMG, SO I AM SOLVING HERE\n",
    "from functools import reduce\n",
    "\n",
    "# List to perform sum operation \n",
    "num = [47, 11, 42, 13]\n",
    "\n",
    "# Define the lambda function to add two numbers\n",
    "sum_result = reduce(lambda x, y: x + y, num)\n",
    "\n",
    "# Print the result\n",
    "print(sum_result)  # Output: 113\n",
    "HERE IS HOW:\n",
    "REDUCE () USES 2 PAIR SO\n",
    "IN LIST NUM 1ST ELEMENT 47 IS TREATED AS X AND 2ND ELEMENT 11 IS TREATED AS Y \n",
    "SUM = 47+11=58\n",
    "THEN 58 WILL BE TREATED AS X AND 3RD ELEMENT 42 WILL BE Y\n",
    "THEN SUM = 58+42=100\n",
    "THEN 100 WILL BE TREATED AS X AND 4TH ELEMENT TREATED AS Y\n",
    "SO SUM = 100+13 = 113\n",
    "\n"
   ]
  },
  {
   "cell_type": "markdown",
   "id": "aeee90f7",
   "metadata": {},
   "source": [
    "PRACTICAL QUESTON"
   ]
  },
  {
   "cell_type": "code",
   "execution_count": 4,
   "id": "7d31160a",
   "metadata": {},
   "outputs": [
    {
     "name": "stdout",
     "output_type": "stream",
     "text": [
      "12\n"
     ]
    }
   ],
   "source": [
    "#Q1. Write a Python function that takes a list of numbers as input and returns the sum of all even numbers in\n",
    "#the list.\n",
    "\n",
    "def even_sum(num):\n",
    "    evensum =0\n",
    "    for i in num:\n",
    "     if i%2==0:\n",
    "        evensum= evensum+i\n",
    "    return evensum\n",
    "\n",
    "n = [2,3,4,5,6]\n",
    "re = even_sum(n)\n",
    "print(re)"
   ]
  },
  {
   "cell_type": "code",
   "execution_count": 5,
   "id": "2339b274",
   "metadata": {},
   "outputs": [
    {
     "data": {
      "text/plain": [
       "'nama'"
      ]
     },
     "execution_count": 5,
     "metadata": {},
     "output_type": "execute_result"
    }
   ],
   "source": [
    "#Q2.Create a Python function that accepts a string and returns the reverse of that string.\n",
    "def rev(name):\n",
    "    return name[::-1]\n",
    "\n",
    "name = \"aman\"\n",
    "rev(name)"
   ]
  },
  {
   "cell_type": "code",
   "execution_count": 8,
   "id": "1921584a",
   "metadata": {},
   "outputs": [
    {
     "name": "stdout",
     "output_type": "stream",
     "text": [
      "[4, 9, 16, 25]\n"
     ]
    }
   ],
   "source": [
    "#Q3. Implement a Python function that takes a list of integers and returns a new list containing the squares of\n",
    "#each number.\n",
    "def sq_numbers(numbers):\n",
    "    return [num ** 2 for num in numbers]\n",
    "\n",
    "list = [2,3,4,5]\n",
    "square_list = sq_numbers(list)\n",
    "print(square_list)\n"
   ]
  },
  {
   "cell_type": "code",
   "execution_count": null,
   "id": "cabc567d",
   "metadata": {},
   "outputs": [
    {
     "name": "stdout",
     "output_type": "stream",
     "text": [
      "2\n",
      "3\n",
      "5\n",
      "7\n",
      "11\n",
      "13\n",
      "17\n",
      "19\n",
      "23\n",
      "29\n",
      "31\n",
      "37\n",
      "41\n",
      "43\n",
      "47\n",
      "53\n",
      "59\n",
      "61\n",
      "67\n",
      "71\n",
      "73\n",
      "79\n",
      "83\n",
      "89\n",
      "97\n",
      "101\n",
      "103\n",
      "107\n",
      "109\n",
      "113\n",
      "127\n",
      "131\n",
      "137\n",
      "139\n",
      "149\n",
      "151\n",
      "157\n",
      "163\n",
      "167\n",
      "173\n",
      "179\n",
      "181\n",
      "191\n",
      "193\n",
      "197\n",
      "199\n"
     ]
    }
   ],
   "source": [
    "#Q4.Write a Python function that checks if a given number is prime or not from 1 to 200.\n",
    "def check_prime(num):\n",
    "    if num <= 1:\n",
    "        return False  \n",
    "    for i in range(2, num):  \n",
    "        if num % i == 0:  \n",
    "            return False\n",
    "\n",
    "    return True \n",
    "# Check for prime numbers between 1 and 200\n",
    "for i in range(1, 201):\n",
    "    if check_prime(i):\n",
    "        print(i) \n",
    "\n"
   ]
  },
  {
   "cell_type": "code",
   "execution_count": null,
   "id": "ba5d5ae3",
   "metadata": {},
   "outputs": [],
   "source": [
    "#Q5.Create an iterator class in Python that generates the Fibonacci sequence up to a specified number of\n",
    "#terms.\n",
    "def fibonacci(terms):\n",
    "    a, b = 0, 1\n",
    "    for _ in range(terms):\n",
    "        yield a  # Yield the current Fibonacci number\n",
    "        a, b = b, a + b  # Update the values of a and b to the next Fibonacci numbers\n",
    "\n",
    "# Example usage:\n",
    "for num in fibonacci(10):  # Generate the first 10 Fibonacci numbers\n",
    "    print(num)\n"
   ]
  },
  {
   "cell_type": "code",
   "execution_count": 11,
   "id": "114288b2",
   "metadata": {},
   "outputs": [
    {
     "name": "stdout",
     "output_type": "stream",
     "text": [
      "1\n",
      "2\n",
      "4\n",
      "8\n"
     ]
    }
   ],
   "source": [
    "#Q6.Write a generator function in Python that yields the powers of 2 up to a given exponent.\n",
    "def powers_of_2(exponent):\n",
    "    for i in range(exponent + 1):\n",
    "        yield 2 ** i\n",
    "for power in powers_of_2(3):  \n",
    "    print(power)  "
   ]
  },
  {
   "cell_type": "code",
   "execution_count": null,
   "id": "0f9b10c4",
   "metadata": {},
   "outputs": [],
   "source": [
    "#Q7. Implement a generator function that reads a file line by line and yields each line as a string.\n",
    "def read_file_line_by_line(file_path):\n",
    "    with open(file_path, 'r') as file:\n",
    "        for line in file:\n",
    "            yield line.strip()  # strip() is used to remove the trailing newline characters\n"
   ]
  },
  {
   "cell_type": "code",
   "execution_count": 12,
   "id": "37bda6f6",
   "metadata": {},
   "outputs": [
    {
     "name": "stdout",
     "output_type": "stream",
     "text": [
      "[(2, 1), (4, 2), (1, 3), (3, 4)]\n"
     ]
    }
   ],
   "source": [
    "#Q8.Use a lambda function in Python to sort a list of tuples based on the second element of each tuple\n",
    "# Example list of tuples\n",
    "tuples_list = [(1, 3), (2, 1), (4, 2), (3, 4)]\n",
    "\n",
    "# Sort the list by the second element of each tuple\n",
    "sorted_list = sorted(tuples_list, key=lambda x: x[1])\n",
    "\n",
    "print(sorted_list)\n",
    "\n"
   ]
  },
  {
   "cell_type": "code",
   "execution_count": 1,
   "id": "5f84dcea",
   "metadata": {},
   "outputs": [
    {
     "name": "stdout",
     "output_type": "stream",
     "text": [
      "[32.0, 50.0, 68.0, 86.0, 104.0, 122.0]\n"
     ]
    }
   ],
   "source": [
    "#Q9.Write a Python program that uses map() to convert a list of temperatures from Celsius to Fahrenheit.\n",
    "# List of temperatures in Celsius\n",
    "temps = [0, 10, 20, 30, 40, 50]\n",
    "\n",
    "# Use map() with a lambda function to convert Celsius to Fahrenheit\n",
    "fahrenheit_temps = list(map(lambda celsius: (celsius * 9/5) + 32, temps))\n",
    "\n",
    "# Print the resulting Fahrenheit temperatures\n",
    "print(fahrenheit_temps)\n"
   ]
  },
  {
   "cell_type": "code",
   "execution_count": null,
   "id": "4ecc647f",
   "metadata": {},
   "outputs": [],
   "source": [
    "#Q10.Create a Python program that uses `filter()` to remove all the vowels from a given string.\n",
    "# Function to filter out vowels\n",
    "def remove_vowels(char):\n",
    "    return char.lower() not in 'aeiou'\n",
    "\n",
    "# Given string\n",
    "input_string = \"Hello, World!\"\n",
    "\n",
    "# Use filter() to remove vowels and join the result back into a string\n",
    "filtered_string = ''.join(filter(remove_vowels, input_string))\n",
    "\n",
    "# Print the result\n",
    "print(filtered_string)\n"
   ]
  },
  {
   "cell_type": "code",
   "execution_count": null,
   "id": "79e48ae5",
   "metadata": {},
   "outputs": [],
   "source": [
    "#Q11. didn't understand the question"
   ]
  }
 ],
 "metadata": {
  "kernelspec": {
   "display_name": "Python 3",
   "language": "python",
   "name": "python3"
  },
  "language_info": {
   "codemirror_mode": {
    "name": "ipython",
    "version": 3
   },
   "file_extension": ".py",
   "mimetype": "text/x-python",
   "name": "python",
   "nbconvert_exporter": "python",
   "pygments_lexer": "ipython3",
   "version": "3.13.2"
  }
 },
 "nbformat": 4,
 "nbformat_minor": 5
}
